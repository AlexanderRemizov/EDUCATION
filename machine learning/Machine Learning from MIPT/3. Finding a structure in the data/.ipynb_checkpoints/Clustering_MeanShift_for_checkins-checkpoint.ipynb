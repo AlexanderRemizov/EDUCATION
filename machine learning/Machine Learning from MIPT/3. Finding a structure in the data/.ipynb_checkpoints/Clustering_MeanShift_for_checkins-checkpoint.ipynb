{
 "cells": [
  {
   "cell_type": "markdown",
   "metadata": {},
   "source": [
    "# Modules"
   ]
  },
  {
   "cell_type": "code",
   "execution_count": 45,
   "metadata": {
    "ExecuteTime": {
     "end_time": "2021-01-09T13:30:43.987385Z",
     "start_time": "2021-01-09T13:30:43.975897Z"
    }
   },
   "outputs": [],
   "source": [
    "import pandas as pd\n",
    "import numpy as np\n",
    "\n",
    "import matplotlib.pyplot as plt\n",
    "%matplotlib inline\n",
    "import plotly.express as px\n",
    "import seaborn as sns\n",
    "sns.set(rc={'figure.figsize':(14, 7)})\n",
    "sns.set(style='whitegrid', rc={\"grid.linewidth\": 0.1})\n",
    "sns.set_context(\"paper\", font_scale=1.5) \n",
    "\n",
    "import math\n",
    "from sklearn.cluster import MeanShift"
   ]
  },
  {
   "cell_type": "markdown",
   "metadata": {},
   "source": [
    "# Data"
   ]
  },
  {
   "cell_type": "code",
   "execution_count": 5,
   "metadata": {
    "ExecuteTime": {
     "end_time": "2021-01-09T13:06:09.266100Z",
     "start_time": "2021-01-09T13:06:06.861779Z"
    }
   },
   "outputs": [
    {
     "data": {
      "text/html": [
       "<div>\n",
       "<style scoped>\n",
       "    .dataframe tbody tr th:only-of-type {\n",
       "        vertical-align: middle;\n",
       "    }\n",
       "\n",
       "    .dataframe tbody tr th {\n",
       "        vertical-align: top;\n",
       "    }\n",
       "\n",
       "    .dataframe thead th {\n",
       "        text-align: right;\n",
       "    }\n",
       "</style>\n",
       "<table border=\"1\" class=\"dataframe\">\n",
       "  <thead>\n",
       "    <tr style=\"text-align: right;\">\n",
       "      <th></th>\n",
       "      <th>id</th>\n",
       "      <th>user_id</th>\n",
       "      <th>venue_id</th>\n",
       "      <th>latitude</th>\n",
       "      <th>longitude</th>\n",
       "      <th>created_at</th>\n",
       "    </tr>\n",
       "  </thead>\n",
       "  <tbody>\n",
       "    <tr>\n",
       "      <th>0</th>\n",
       "      <td>---------+---------+----------+---------------...</td>\n",
       "      <td>NaN</td>\n",
       "      <td>NaN</td>\n",
       "      <td>NaN</td>\n",
       "      <td>NaN</td>\n",
       "      <td>NaN</td>\n",
       "    </tr>\n",
       "    <tr>\n",
       "      <th>1</th>\n",
       "      <td>984301</td>\n",
       "      <td>2041916.0</td>\n",
       "      <td>5222.0</td>\n",
       "      <td></td>\n",
       "      <td></td>\n",
       "      <td>2012-04-21 17:39:01</td>\n",
       "    </tr>\n",
       "    <tr>\n",
       "      <th>2</th>\n",
       "      <td>984222</td>\n",
       "      <td>15824.0</td>\n",
       "      <td>5222.0</td>\n",
       "      <td>38.8951118</td>\n",
       "      <td>-77.0363658</td>\n",
       "      <td>2012-04-21 17:43:47</td>\n",
       "    </tr>\n",
       "    <tr>\n",
       "      <th>3</th>\n",
       "      <td>984315</td>\n",
       "      <td>1764391.0</td>\n",
       "      <td>5222.0</td>\n",
       "      <td></td>\n",
       "      <td></td>\n",
       "      <td>2012-04-21 17:37:18</td>\n",
       "    </tr>\n",
       "    <tr>\n",
       "      <th>4</th>\n",
       "      <td>984234</td>\n",
       "      <td>44652.0</td>\n",
       "      <td>5222.0</td>\n",
       "      <td>33.800745</td>\n",
       "      <td>-84.41052</td>\n",
       "      <td>2012-04-21 17:43:43</td>\n",
       "    </tr>\n",
       "  </tbody>\n",
       "</table>\n",
       "</div>"
      ],
      "text/plain": [
       "                                              id       user_id    venue_id   \\\n",
       "0  ---------+---------+----------+---------------...        NaN         NaN   \n",
       "1                                            984301   2041916.0      5222.0   \n",
       "2                                            984222     15824.0      5222.0   \n",
       "3                                            984315   1764391.0      5222.0   \n",
       "4                                            984234     44652.0      5222.0   \n",
       "\n",
       "        latitude             longitude           created_at        \n",
       "0                  NaN                  NaN                   NaN  \n",
       "1                                             2012-04-21 17:39:01  \n",
       "2          38.8951118          -77.0363658    2012-04-21 17:43:47  \n",
       "3                                             2012-04-21 17:37:18  \n",
       "4           33.800745            -84.41052    2012-04-21 17:43:43  "
      ]
     },
     "execution_count": 5,
     "metadata": {},
     "output_type": "execute_result"
    }
   ],
   "source": [
    "data = pd.read_table('checkins.dat', sep='|', low_memory=False)\n",
    "data.head()"
   ]
  },
  {
   "cell_type": "markdown",
   "metadata": {},
   "source": [
    "# Preprocessing"
   ]
  },
  {
   "cell_type": "code",
   "execution_count": 6,
   "metadata": {
    "ExecuteTime": {
     "end_time": "2021-01-09T13:06:12.267315Z",
     "start_time": "2021-01-09T13:06:10.769086Z"
    }
   },
   "outputs": [],
   "source": [
    "data.columns = ['id', 'user_id', 'venue_id', 'latitude', 'longitude', 'created_at']\n",
    "data = data.drop([0, 1021967])\n",
    "\n",
    "data['id'] = data['id'].astype(int)\n",
    "data['user_id'] = data['id'].astype(float)\n",
    "\n",
    "data['venue_id'] = data['venue_id'].astype(float)\n",
    "data['latitude'] = data['latitude'].apply(lambda x: x.replace(' ', ''))\n",
    "data['longitude'] = data['longitude'].apply(lambda x: x.replace(' ', ''))\n",
    "\n",
    "data = data[(data['latitude'] != '') & (data['longitude'] != '')]\n",
    "\n",
    "data['latitude'] = data['latitude'].astype(float)\n",
    "data['longitude'] = data['longitude'].astype(float)"
   ]
  },
  {
   "cell_type": "markdown",
   "metadata": {},
   "source": [
    "# EDA"
   ]
  },
  {
   "cell_type": "code",
   "execution_count": 46,
   "metadata": {
    "ExecuteTime": {
     "end_time": "2021-01-09T13:30:46.950864Z",
     "start_time": "2021-01-09T13:30:46.208487Z"
    },
    "scrolled": false
   },
   "outputs": [
    {
     "data": {
      "image/png": "[encoded data removed]",
      "text/plain": [
       "<Figure size 1008x504 with 1 Axes>"
      ]
     },
     "metadata": {},
     "output_type": "display_data"
    }
   ],
   "source": [
    "sns.scatterplot(data=data, x='latitude', y='longitude').set_title('Scatter plot');"
   ]
  },
  {
   "cell_type": "markdown",
   "metadata": {},
   "source": [
    "# Clustering"
   ]
  },
  {
   "cell_type": "markdown",
   "metadata": {},
   "source": [
    "We have:\n",
    "1. points with maximum traffic of people (for clustering)\n",
    "2. offices in Los Angeles, Miami, London, Amsterdam, Beijing, Sydney\n",
    "\n",
    "We want built clustering and pick 20 point with minimum distence to our offices"
   ]
  },
  {
   "cell_type": "code",
   "execution_count": 28,
   "metadata": {
    "ExecuteTime": {
     "end_time": "2021-01-09T13:25:43.116602Z",
     "start_time": "2021-01-09T13:21:33.154959Z"
    }
   },
   "outputs": [],
   "source": [
    "# pick 100000 points for speed\n",
    "X = data[['latitude', 'longitude']].iloc[:100000]\n",
    "# fit clustering MeanShift\n",
    "clustering = MeanShift(bandwidth=0.1).fit(X)\n",
    "\n",
    "# write label for each point \n",
    "X['clustering'] = clustering.labels_\n",
    "cluster_centers = clustering.cluster_centers_\n",
    "\n",
    "offices = [[33.751277, -118.188740],\n",
    "           [25.867736, -80.324116], \n",
    "           [51.503016, -0.075479], \n",
    "           [52.378894, 4.885084], \n",
    "           [39.366487, 117.036146], \n",
    "           [-33.868457, 151.205134]]\n",
    "\n",
    "cities = ['Los Angeles', 'Miami', 'London', 'Amsterdam', 'Beijing', 'Sydney']"
   ]
  },
  {
   "cell_type": "markdown",
   "metadata": {},
   "source": [
    "# Calculating distance to offices"
   ]
  },
  {
   "cell_type": "code",
   "execution_count": 29,
   "metadata": {
    "ExecuteTime": {
     "end_time": "2021-01-09T13:25:43.361722Z",
     "start_time": "2021-01-09T13:25:43.262990Z"
    }
   },
   "outputs": [
    {
     "data": {
      "text/html": [
       "<div>\n",
       "<style scoped>\n",
       "    .dataframe tbody tr th:only-of-type {\n",
       "        vertical-align: middle;\n",
       "    }\n",
       "\n",
       "    .dataframe tbody tr th {\n",
       "        vertical-align: top;\n",
       "    }\n",
       "\n",
       "    .dataframe thead th {\n",
       "        text-align: right;\n",
       "    }\n",
       "</style>\n",
       "<table border=\"1\" class=\"dataframe\">\n",
       "  <thead>\n",
       "    <tr style=\"text-align: right;\">\n",
       "      <th></th>\n",
       "      <th>Los Angeles</th>\n",
       "      <th>Miami</th>\n",
       "      <th>London</th>\n",
       "      <th>Amsterdam</th>\n",
       "      <th>Beijing</th>\n",
       "      <th>Sydney</th>\n",
       "      <th>min_distances</th>\n",
       "      <th>number_of_points</th>\n",
       "    </tr>\n",
       "  </thead>\n",
       "  <tbody>\n",
       "    <tr>\n",
       "      <th>420</th>\n",
       "      <td>277.748513</td>\n",
       "      <td>239.108983</td>\n",
       "      <td>173.702814</td>\n",
       "      <td>169.843186</td>\n",
       "      <td>80.806596</td>\n",
       "      <td>0.007835</td>\n",
       "      <td>0.007835</td>\n",
       "      <td>28</td>\n",
       "    </tr>\n",
       "    <tr>\n",
       "      <th>370</th>\n",
       "      <td>124.481781</td>\n",
       "      <td>89.243306</td>\n",
       "      <td>5.043393</td>\n",
       "      <td>0.009353</td>\n",
       "      <td>112.895557</td>\n",
       "      <td>169.838226</td>\n",
       "      <td>0.009353</td>\n",
       "      <td>31</td>\n",
       "    </tr>\n",
       "    <tr>\n",
       "      <th>419</th>\n",
       "      <td>38.686226</td>\n",
       "      <td>0.022674</td>\n",
       "      <td>84.245501</td>\n",
       "      <td>89.239728</td>\n",
       "      <td>197.817651</td>\n",
       "      <td>239.100714</td>\n",
       "      <td>0.022674</td>\n",
       "      <td>28</td>\n",
       "    </tr>\n",
       "    <tr>\n",
       "      <th>58</th>\n",
       "      <td>119.390298</td>\n",
       "      <td>84.196071</td>\n",
       "      <td>0.050058</td>\n",
       "      <td>5.086603</td>\n",
       "      <td>117.788602</td>\n",
       "      <td>173.750558</td>\n",
       "      <td>0.050058</td>\n",
       "      <td>254</td>\n",
       "    </tr>\n",
       "    <tr>\n",
       "      <th>51</th>\n",
       "      <td>0.070848</td>\n",
       "      <td>38.649627</td>\n",
       "      <td>119.391731</td>\n",
       "      <td>124.427390</td>\n",
       "      <td>235.250702</td>\n",
       "      <td>277.726422</td>\n",
       "      <td>0.070848</td>\n",
       "      <td>281</td>\n",
       "    </tr>\n",
       "    <tr>\n",
       "      <th>29</th>\n",
       "      <td>38.797299</td>\n",
       "      <td>0.134109</td>\n",
       "      <td>84.167620</td>\n",
       "      <td>89.161182</td>\n",
       "      <td>197.721037</td>\n",
       "      <td>238.988013</td>\n",
       "      <td>0.134109</td>\n",
       "      <td>564</td>\n",
       "    </tr>\n",
       "    <tr>\n",
       "      <th>167</th>\n",
       "      <td>38.749833</td>\n",
       "      <td>0.167406</td>\n",
       "      <td>84.254583</td>\n",
       "      <td>89.247709</td>\n",
       "      <td>197.791914</td>\n",
       "      <td>239.031364</td>\n",
       "      <td>0.167406</td>\n",
       "      <td>80</td>\n",
       "    </tr>\n",
       "    <tr>\n",
       "      <th>92</th>\n",
       "      <td>38.769459</td>\n",
       "      <td>0.188876</td>\n",
       "      <td>84.082259</td>\n",
       "      <td>89.077401</td>\n",
       "      <td>197.687852</td>\n",
       "      <td>239.026720</td>\n",
       "      <td>0.188876</td>\n",
       "      <td>138</td>\n",
       "    </tr>\n",
       "    <tr>\n",
       "      <th>87</th>\n",
       "      <td>0.195779</td>\n",
       "      <td>38.568009</td>\n",
       "      <td>119.281231</td>\n",
       "      <td>124.316823</td>\n",
       "      <td>235.148894</td>\n",
       "      <td>277.648576</td>\n",
       "      <td>0.195779</td>\n",
       "      <td>100</td>\n",
       "    </tr>\n",
       "    <tr>\n",
       "      <th>42</th>\n",
       "      <td>0.211811</td>\n",
       "      <td>38.871218</td>\n",
       "      <td>119.593230</td>\n",
       "      <td>124.628788</td>\n",
       "      <td>235.462329</td>\n",
       "      <td>277.948542</td>\n",
       "      <td>0.211811</td>\n",
       "      <td>384</td>\n",
       "    </tr>\n",
       "    <tr>\n",
       "      <th>291</th>\n",
       "      <td>0.222233</td>\n",
       "      <td>38.702403</td>\n",
       "      <td>119.386965</td>\n",
       "      <td>124.422447</td>\n",
       "      <td>235.266357</td>\n",
       "      <td>277.784972</td>\n",
       "      <td>0.222233</td>\n",
       "      <td>37</td>\n",
       "    </tr>\n",
       "    <tr>\n",
       "      <th>320</th>\n",
       "      <td>38.612229</td>\n",
       "      <td>0.271301</td>\n",
       "      <td>84.171415</td>\n",
       "      <td>89.167772</td>\n",
       "      <td>197.813250</td>\n",
       "      <td>239.189062</td>\n",
       "      <td>0.271301</td>\n",
       "      <td>38</td>\n",
       "    </tr>\n",
       "    <tr>\n",
       "      <th>119</th>\n",
       "      <td>0.294979</td>\n",
       "      <td>38.547412</td>\n",
       "      <td>119.226077</td>\n",
       "      <td>124.261572</td>\n",
       "      <td>235.105174</td>\n",
       "      <td>277.631660</td>\n",
       "      <td>0.294979</td>\n",
       "      <td>74</td>\n",
       "    </tr>\n",
       "    <tr>\n",
       "      <th>55</th>\n",
       "      <td>38.787774</td>\n",
       "      <td>0.302270</td>\n",
       "      <td>84.009577</td>\n",
       "      <td>89.005419</td>\n",
       "      <td>197.639407</td>\n",
       "      <td>239.014723</td>\n",
       "      <td>0.302270</td>\n",
       "      <td>246</td>\n",
       "    </tr>\n",
       "    <tr>\n",
       "      <th>27</th>\n",
       "      <td>0.304731</td>\n",
       "      <td>38.399026</td>\n",
       "      <td>119.135805</td>\n",
       "      <td>124.171496</td>\n",
       "      <td>234.992924</td>\n",
       "      <td>277.478334</td>\n",
       "      <td>0.304731</td>\n",
       "      <td>577</td>\n",
       "    </tr>\n",
       "    <tr>\n",
       "      <th>11</th>\n",
       "      <td>0.314884</td>\n",
       "      <td>38.799413</td>\n",
       "      <td>119.453578</td>\n",
       "      <td>124.488948</td>\n",
       "      <td>235.344678</td>\n",
       "      <td>277.884333</td>\n",
       "      <td>0.314884</td>\n",
       "      <td>1081</td>\n",
       "    </tr>\n",
       "    <tr>\n",
       "      <th>32</th>\n",
       "      <td>0.338810</td>\n",
       "      <td>38.337895</td>\n",
       "      <td>119.125023</td>\n",
       "      <td>124.160864</td>\n",
       "      <td>234.963894</td>\n",
       "      <td>277.412003</td>\n",
       "      <td>0.338810</td>\n",
       "      <td>449</td>\n",
       "    </tr>\n",
       "    <tr>\n",
       "      <th>159</th>\n",
       "      <td>38.682123</td>\n",
       "      <td>0.340846</td>\n",
       "      <td>84.073073</td>\n",
       "      <td>89.069683</td>\n",
       "      <td>197.725686</td>\n",
       "      <td>239.123609</td>\n",
       "      <td>0.340846</td>\n",
       "      <td>42</td>\n",
       "    </tr>\n",
       "    <tr>\n",
       "      <th>17</th>\n",
       "      <td>0.378688</td>\n",
       "      <td>38.980205</td>\n",
       "      <td>119.645464</td>\n",
       "      <td>124.680831</td>\n",
       "      <td>235.535481</td>\n",
       "      <td>278.062769</td>\n",
       "      <td>0.378688</td>\n",
       "      <td>645</td>\n",
       "    </tr>\n",
       "    <tr>\n",
       "      <th>47</th>\n",
       "      <td>0.386706</td>\n",
       "      <td>38.686790</td>\n",
       "      <td>119.313916</td>\n",
       "      <td>124.349228</td>\n",
       "      <td>235.212422</td>\n",
       "      <td>277.774991</td>\n",
       "      <td>0.386706</td>\n",
       "      <td>273</td>\n",
       "    </tr>\n",
       "  </tbody>\n",
       "</table>\n",
       "</div>"
      ],
      "text/plain": [
       "     Los Angeles       Miami      London   Amsterdam     Beijing      Sydney  \\\n",
       "420   277.748513  239.108983  173.702814  169.843186   80.806596    0.007835   \n",
       "370   124.481781   89.243306    5.043393    0.009353  112.895557  169.838226   \n",
       "419    38.686226    0.022674   84.245501   89.239728  197.817651  239.100714   \n",
       "58    119.390298   84.196071    0.050058    5.086603  117.788602  173.750558   \n",
       "51      0.070848   38.649627  119.391731  124.427390  235.250702  277.726422   \n",
       "29     38.797299    0.134109   84.167620   89.161182  197.721037  238.988013   \n",
       "167    38.749833    0.167406   84.254583   89.247709  197.791914  239.031364   \n",
       "92     38.769459    0.188876   84.082259   89.077401  197.687852  239.026720   \n",
       "87      0.195779   38.568009  119.281231  124.316823  235.148894  277.648576   \n",
       "42      0.211811   38.871218  119.593230  124.628788  235.462329  277.948542   \n",
       "291     0.222233   38.702403  119.386965  124.422447  235.266357  277.784972   \n",
       "320    38.612229    0.271301   84.171415   89.167772  197.813250  239.189062   \n",
       "119     0.294979   38.547412  119.226077  124.261572  235.105174  277.631660   \n",
       "55     38.787774    0.302270   84.009577   89.005419  197.639407  239.014723   \n",
       "27      0.304731   38.399026  119.135805  124.171496  234.992924  277.478334   \n",
       "11      0.314884   38.799413  119.453578  124.488948  235.344678  277.884333   \n",
       "32      0.338810   38.337895  119.125023  124.160864  234.963894  277.412003   \n",
       "159    38.682123    0.340846   84.073073   89.069683  197.725686  239.123609   \n",
       "17      0.378688   38.980205  119.645464  124.680831  235.535481  278.062769   \n",
       "47      0.386706   38.686790  119.313916  124.349228  235.212422  277.774991   \n",
       "\n",
       "     min_distances  number_of_points  \n",
       "420       0.007835                28  \n",
       "370       0.009353                31  \n",
       "419       0.022674                28  \n",
       "58        0.050058               254  \n",
       "51        0.070848               281  \n",
       "29        0.134109               564  \n",
       "167       0.167406                80  \n",
       "92        0.188876               138  \n",
       "87        0.195779               100  \n",
       "42        0.211811               384  \n",
       "291       0.222233                37  \n",
       "320       0.271301                38  \n",
       "119       0.294979                74  \n",
       "55        0.302270               246  \n",
       "27        0.304731               577  \n",
       "11        0.314884              1081  \n",
       "32        0.338810               449  \n",
       "159       0.340846                42  \n",
       "17        0.378688               645  \n",
       "47        0.386706               273  "
      ]
     },
     "execution_count": 29,
     "metadata": {},
     "output_type": "execute_result"
    }
   ],
   "source": [
    "distances = np.zeros((len(cluster_centers), len(offices)))\n",
    "\n",
    "for cluster_index, cluster_center in enumerate(cluster_centers):\n",
    "    for office_index, office_center in enumerate(offices):\n",
    "        distances[cluster_index, office_index] = \\\n",
    "        math.hypot(cluster_center[0] - office_center[0], cluster_center[1] - office_center[1])\n",
    "        \n",
    "distances = pd.DataFrame(distances, columns=cities)\n",
    "distances['min_distances'] = distances.apply(min, axis=1)\n",
    "distances['number_of_points'] = X['clustering'].value_counts()\n",
    "\n",
    "# include only > 15 points in each cluster\n",
    "distances[distances['number_of_points'] > 15].sort_values('min_distances')[:20]"
   ]
  },
  {
   "cell_type": "code",
   "execution_count": 47,
   "metadata": {
    "ExecuteTime": {
     "end_time": "2021-01-09T13:30:51.295717Z",
     "start_time": "2021-01-09T13:30:49.905264Z"
    }
   },
   "outputs": [
    {
     "data": {
      "image/png": "[encoded data removed]",
      "text/plain": [
       "<Figure size 1008x504 with 1 Axes>"
      ]
     },
     "metadata": {},
     "output_type": "display_data"
    }
   ],
   "source": [
    "top_20_clusters = distances.sort_values('number_of_points', ascending=False)[:20].index.tolist()\n",
    "\n",
    "sns.scatterplot(data=X[X['clustering'].isin(top_20_clusters)], \n",
    "                x='latitude', y='longitude', hue='clustering').set_title('Scatter plot with Mean Shift clustering');"
   ]
  },
  {
   "cell_type": "code",
   "execution_count": null,
   "metadata": {},
   "outputs": [],
   "source": []
  }
 ],
 "metadata": {
  "hide_input": false,
  "kernelspec": {
   "display_name": "Python 3",
   "language": "python",
   "name": "python3"
  },
  "language_info": {
   "codemirror_mode": {
    "name": "ipython",
    "version": 3
   },
   "file_extension": ".py",
   "mimetype": "text/x-python",
   "name": "python",
   "nbconvert_exporter": "python",
   "pygments_lexer": "ipython3",
   "version": "3.9.1"
  },
  "notify_time": "10",
  "toc": {
   "base_numbering": 1,
   "nav_menu": {},
   "number_sections": true,
   "sideBar": true,
   "skip_h1_title": false,
   "title_cell": "Table of Contents",
   "title_sidebar": "Contents",
   "toc_cell": false,
   "toc_position": {},
   "toc_section_display": true,
   "toc_window_display": false
  },
  "varInspector": {
   "cols": {
    "lenName": 16,
    "lenType": 16,
    "lenVar": 40
   },
   "kernels_config": {
    "python": {
     "delete_cmd_postfix": "",
     "delete_cmd_prefix": "del ",
     "library": "var_list.py",
     "varRefreshCmd": "print(var_dic_list())"
    },
    "r": {
     "delete_cmd_postfix": ") ",
     "delete_cmd_prefix": "rm(",
     "library": "var_list.r",
     "varRefreshCmd": "cat(var_dic_list()) "
    }
   },
   "types_to_exclude": [
    "module",
    "function",
    "builtin_function_or_method",
    "instance",
    "_Feature"
   ],
   "window_display": false
  }
 },
 "nbformat": 4,
 "nbformat_minor": 4
}
